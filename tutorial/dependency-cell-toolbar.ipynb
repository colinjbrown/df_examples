{
 "cells": [
  {
   "cell_type": "markdown",
   "metadata": {
    "cell_status": "new"
   },
   "source": [
    "# Dependencies and the Cell Toolbar\n",
    "Dependencies in the notebook will execute upstreams if the code in an upstream cell changes. Code caches are checked to ensure that everything stays up to date."
   ]
  },
  {
   "cell_type": "code",
   "execution_count": 16371661,
   "metadata": {
    "cell_status": "saved-success-first-load"
   },
   "outputs": [
    {
     "data": {
      "text/plain": [
       "IPython.core.display.Image"
      ]
     },
     "execution_count": 16371661,
     "metadata": {
      "output_tag": "Image"
     },
     "output_type": "execute_result"
    }
   ],
   "source": [
    "from IPython.display import Image"
   ]
  },
  {
   "cell_type": "code",
   "execution_count": 12889689,
   "metadata": {
    "cell_status": "saved-success-first-load"
   },
   "outputs": [
    {
     "data": {
      "text/plain": [
       "3"
      ]
     },
     "execution_count": 12889689,
     "metadata": {
      "output_tag": "a"
     },
     "output_type": "execute_result"
    }
   ],
   "source": [
    "a = 3"
   ]
  },
  {
   "cell_type": "code",
   "execution_count": 14838083,
   "metadata": {
    "cell_status": "saved-success-first-load"
   },
   "outputs": [
    {
     "data": {
      "text/plain": [
       "5"
      ]
     },
     "execution_count": 14838083,
     "metadata": {
      "output_tag": "b"
     },
     "output_type": "execute_result"
    }
   ],
   "source": [
    "b = a+2"
   ]
  },
  {
   "cell_type": "markdown",
   "metadata": {
    "cell_status": "new"
   },
   "source": [
    "Upon changing `a` to be a different value such as `a=2` and executing `Cell[e26943]`, `Cell[c4ae59]` will immediatly execute to ensure that `b` now returns `6` instead.\n",
    "\n",
    "**How this works: To ensure that the `a` being referenced is the proper `a` we have enforced a variable name lockdown. That means that any attempts to reassign a will result in failure. However this only happens at the final output stage, every cell in the Dataflow kernel is a closure.**"
   ]
  },
  {
   "cell_type": "code",
   "execution_count": 14140435,
   "metadata": {
    "cell_status": "saved-error"
   },
   "outputs": [
    {
     "ename": "DuplicateNameError",
     "evalue": "name 'a' has already been defined in Cell 'c4ae59'",
     "output_type": "error",
     "traceback": [
      "\u001b[0;31m---------------------------------------------------------------------------\u001b[0m",
      "\u001b[0;31mDuplicateNameError\u001b[0m                        Traceback (most recent call last)",
      "\u001b[0;31mDuplicateNameError\u001b[0m: name 'a' has already been defined in Cell 'c4ae59'"
     ]
    }
   ],
   "source": [
    "a = 4"
   ]
  },
  {
   "cell_type": "markdown",
   "metadata": {
    "cell_status": "new"
   },
   "source": [
    "Defining every cell as a closure allows for more interesting behavior but the user has to be careful as the `a` in the folowing case is considered to be a local variable."
   ]
  },
  {
   "cell_type": "code",
   "execution_count": 14521897,
   "metadata": {
    "cell_status": "saved-success-first-load"
   },
   "outputs": [
    {
     "data": {
      "text/plain": [
       "9"
      ]
     },
     "execution_count": 14521897,
     "metadata": {
      "output_tag": "c"
     },
     "output_type": "execute_result"
    }
   ],
   "source": [
    "a = 5\n",
    "c = a+4"
   ]
  },
  {
   "cell_type": "markdown",
   "metadata": {
    "cell_status": "new"
   },
   "source": [
    "However you can ensure that you are referring to the correct a by the use of the following keywords `global` and `nonlocal`."
   ]
  },
  {
   "cell_type": "code",
   "execution_count": 13433107,
   "metadata": {
    "cell_status": "saved-success-first-load"
   },
   "outputs": [
    {
     "data": {
      "text/plain": [
       "6"
      ]
     },
     "execution_count": 13433107,
     "metadata": {
      "output_tag": "d"
     },
     "output_type": "execute_result"
    }
   ],
   "source": [
    "global a\n",
    "a = 6\n",
    "d = a+3"
   ]
  },
  {
   "cell_type": "markdown",
   "metadata": {
    "cell_status": "new"
   },
   "source": [
    "In the following case a user may want to refer to a locally declared variable `a` inside a function or class and switch between this locally declared variable and one that is in the global namespace."
   ]
  },
  {
   "cell_type": "code",
   "execution_count": 12618385,
   "metadata": {
    "cell_status": "saved-success-first-load"
   },
   "outputs": [
    {
     "name": "stdout",
     "output_type": "stream",
     "text": [
      "6\n",
      "3\n"
     ]
    },
    {
     "data": {
      "text/plain": [
       "<__main__.__closure__.<locals>.g at 0x7f49dc5fa6a0>"
      ]
     },
     "execution_count": 12618385,
     "metadata": {},
     "output_type": "execute_result"
    }
   ],
   "source": [
    "a = 6\n",
    "\n",
    "class g():\n",
    "    def __init__(self):\n",
    "        self.f()\n",
    "        self.g()\n",
    "    def f(self):\n",
    "        nonlocal a\n",
    "        print(a)\n",
    "    def g(self):\n",
    "        global a\n",
    "        print(a)\n",
    "g()"
   ]
  },
  {
   "cell_type": "markdown",
   "metadata": {
    "cell_status": "new"
   },
   "source": [
    "## Cell Toolbars\n",
    "To allow users an easy way to get an overview of the upstream and downstream dependencies we've provided a cell toolbar that is enabled from the view dropdown."
   ]
  },
  {
   "cell_type": "code",
   "execution_count": 14633721,
   "metadata": {
    "cell_status": "saved-success-first-load"
   },
   "outputs": [
    {
     "data": {
      "text/html": [
       "<img src=\"https://rawgit.com/colinjbrown/dfkernel/documentation-update/docs/tutorial/img/enabletoolbar.png\"/>"
      ],
      "text/plain": [
       "<IPython.core.display.Image object>"
      ]
     },
     "execution_count": 14633721,
     "metadata": {
      "output_tag": "CellToolBar"
     },
     "output_type": "execute_result"
    }
   ],
   "source": [
    "CellToolBar = Image(url='https://rawgit.com/colinjbrown/dfkernel/documentation-update/docs/tutorial/img/enabletoolbar.png')"
   ]
  },
  {
   "cell_type": "markdown",
   "metadata": {
    "cell_status": "new"
   },
   "source": [
    "Upon enabling the dataflow toolbar and executing the cells below we get an overview of the dependencies in each cell as well as the ability to toggle refresh states."
   ]
  },
  {
   "cell_type": "code",
   "execution_count": 15534217,
   "metadata": {
    "cell_status": "saved-success-first-load"
   },
   "outputs": [
    {
     "data": {
      "text/plain": [
       "13"
      ]
     },
     "execution_count": 15534217,
     "metadata": {
      "output_tag": "x"
     },
     "output_type": "execute_result"
    },
    {
     "data": {
      "text/plain": [
       "9"
      ]
     },
     "execution_count": 15534217,
     "metadata": {
      "output_tag": "y"
     },
     "output_type": "execute_result"
    }
   ],
   "source": [
    "x = a+10\n",
    "y = b+4\n",
    "x,y"
   ]
  },
  {
   "cell_type": "code",
   "execution_count": 10931056,
   "metadata": {
    "cell_status": "saved-success-first-load"
   },
   "outputs": [
    {
     "data": {
      "text/plain": [
       "22"
      ]
     },
     "execution_count": 10931056,
     "metadata": {
      "output_tag": "z"
     },
     "output_type": "execute_result"
    }
   ],
   "source": [
    "z = x+y"
   ]
  },
  {
   "cell_type": "code",
   "execution_count": 14198623,
   "metadata": {
    "cell_status": "saved-success-first-load"
   },
   "outputs": [
    {
     "data": {
      "text/html": [
       "<img src=\"https://rawgit.com/colinjbrown/dfkernel/documentation-update/docs/tutorial/img/cells_displayed.png\"/>"
      ],
      "text/plain": [
       "<IPython.core.display.Image object>"
      ]
     },
     "execution_count": 14198623,
     "metadata": {
      "output_tag": "CellToolBarOpen"
     },
     "output_type": "execute_result"
    }
   ],
   "source": [
    "CellToolBarOpen = Image(url='https://rawgit.com/colinjbrown/dfkernel/documentation-update/docs/tutorial/img/cells_displayed.png')"
   ]
  },
  {
   "cell_type": "markdown",
   "metadata": {
    "cell_status": "new"
   },
   "source": [
    "In this menu by clicking on <span class='fa-database fa'/> you are able to use the cached version of this cell, anything that is retrieved from this cell will be from the last run.\n",
    "\n",
    "While clicking on <span class='fa-refresh fa'/> will make sure that if a cell that is upstream of this cell executes that you want this downstream cell to also execute.\n",
    "\n",
    "If a user clicks on <span class='fa-chevron-circle-up fa' /> all of the cells that are upstream from this cell will be selected in the notebook.\n",
    "\n",
    "Where as if a user clicks on <span class='fa-chevron-circle-down fa' /> all of the cells that are downstream from this cell will be selected instead.\n",
    "\n",
    "**Note: The Auto-Refresh on downstream is setup this way because it's not explicit that a user would want a downstream cell to be re-executed or not, all cells upstream of a cell have to be re-executed to be considered valid.**"
   ]
  }
 ],
 "metadata": {
  "cell_status": "new",
  "celltoolbar": "Dataflow",
  "hl_list": [],
  "kernelspec": {
   "display_name": "DFPython 3",
   "language": "python",
   "name": "dfpython3"
  },
  "language_info": {
   "codemirror_mode": {
    "name": "ipython",
    "version": 3
   },
   "file_extension": ".py",
   "mimetype": "text/x-python",
   "name": "python",
   "nbconvert_exporter": "python",
   "pygments_lexer": "ipython3",
   "version": "3.6.5"
  }
 },
 "nbformat": 4,
 "nbformat_minor": 2
}
