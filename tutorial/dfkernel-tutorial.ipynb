{
 "cells": [
  {
   "cell_type": "markdown",
   "metadata": {
    "cell_status": "new"
   },
   "source": [
    "# Dataflow Kernel Tutorial\n",
    "\n",
    "## Controlling Output references\n",
    "In the Dataflow Kernel there are several different ways to export your variables into the current namespace that you're working in.\n",
    "Any unnamed type will simply be given a persistent identifier that matches the persistent cell identifier that the input is given."
   ]
  },
  {
   "cell_type": "code",
   "execution_count": 15269944,
   "metadata": {
    "cell_status": "saved-success-first-load"
   },
   "outputs": [
    {
     "data": {
      "text/plain": [
       "5"
      ]
     },
     "execution_count": 15269944,
     "metadata": {},
     "output_type": "execute_result"
    }
   ],
   "source": [
    "2+3"
   ]
  },
  {
   "cell_type": "markdown",
   "metadata": {
    "cell_status": "new"
   },
   "source": [
    "You can also give an output a tag by assigning a name to it, as long as the variable has a name we can just export that into the namespace."
   ]
  },
  {
   "cell_type": "code",
   "execution_count": 11189782,
   "metadata": {
    "cell_status": "saved-success-first-load"
   },
   "outputs": [
    {
     "data": {
      "text/plain": [
       "3"
      ]
     },
     "execution_count": 11189782,
     "metadata": {
      "output_tag": "a"
     },
     "output_type": "execute_result"
    }
   ],
   "source": [
    "a = 3"
   ]
  },
  {
   "cell_type": "markdown",
   "metadata": {
    "cell_status": "new"
   },
   "source": [
    "All names are considered persistent throughout the notebook, this means if you try and reassign it in a different cell you'll get an error however, this can be resolved by simply deleting that cell and you'll be able to redefine that name in any other cell."
   ]
  },
  {
   "cell_type": "code",
   "execution_count": 15864942,
   "metadata": {
    "cell_status": "saved-error-first-load"
   },
   "outputs": [
    {
     "ename": "DuplicateNameError",
     "evalue": "name 'a' has already been defined in Cell 'aabe16'",
     "output_type": "error",
     "traceback": [
      "\u001b[0;31m---------------------------------------------------------------------------\u001b[0m",
      "\u001b[0;31mDuplicateNameError\u001b[0m                        Traceback (most recent call last)",
      "\u001b[0;31mDuplicateNameError\u001b[0m: name 'a' has already been defined in Cell 'aabe16'"
     ]
    }
   ],
   "source": [
    "a = 4"
   ]
  },
  {
   "cell_type": "markdown",
   "metadata": {
    "cell_status": "new"
   },
   "source": [
    "You can also assign multiple variables at once as long as you pass multiple references."
   ]
  },
  {
   "cell_type": "code",
   "execution_count": 13628132,
   "metadata": {
    "cell_status": "saved-success-first-load"
   },
   "outputs": [
    {
     "data": {
      "text/plain": [
       "3"
      ]
     },
     "execution_count": 13628132,
     "metadata": {
      "output_tag": "c"
     },
     "output_type": "execute_result"
    },
    {
     "data": {
      "text/plain": [
       "4"
      ]
     },
     "execution_count": 13628132,
     "metadata": {
      "output_tag": "d"
     },
     "output_type": "execute_result"
    }
   ],
   "source": [
    "c,d = 3,4"
   ]
  },
  {
   "cell_type": "code",
   "execution_count": 12055163,
   "metadata": {
    "cell_status": "saved-success-first-load"
   },
   "outputs": [
    {
     "data": {
      "text/plain": [
       "5"
      ]
     },
     "execution_count": 12055163,
     "metadata": {
      "output_tag": "e"
     },
     "output_type": "execute_result"
    },
    {
     "data": {
      "text/plain": [
       "6"
      ]
     },
     "execution_count": 12055163,
     "metadata": {
      "output_tag": "f"
     },
     "output_type": "execute_result"
    }
   ],
   "source": [
    "e,f = 5,6\n",
    "e,f"
   ]
  },
  {
   "cell_type": "markdown",
   "metadata": {
    "cell_status": "new"
   },
   "source": [
    "In the case of mixed named and unnamed variables the named variables will be pulled out by their variable names and any unnamed variables will be given the ability to be referenced through bracket notation."
   ]
  },
  {
   "cell_type": "code",
   "execution_count": 11182193,
   "metadata": {
    "cell_status": "saved-success-first-load"
   },
   "outputs": [
    {
     "data": {
      "text/plain": [
       "5"
      ]
     },
     "execution_count": 11182193,
     "metadata": {
      "output_tag": "g"
     },
     "output_type": "execute_result"
    },
    {
     "data": {
      "text/plain": [
       "6"
      ]
     },
     "execution_count": 11182193,
     "metadata": {
      "output_tag": "h"
     },
     "output_type": "execute_result"
    },
    {
     "data": {
      "text/plain": [
       "[2, 3]"
      ]
     },
     "execution_count": 11182193,
     "metadata": {
      "output_tag": "aaa0712"
     },
     "output_type": "execute_result"
    }
   ],
   "source": [
    "g,h = 5,6\n",
    "g,h,[2,3]"
   ]
  },
  {
   "cell_type": "markdown",
   "metadata": {
    "cell_status": "new"
   },
   "source": [
    "## Output Magics\n",
    "Since a user might want to split out a dictionary into multiple variables we've provided methods for that.\n",
    "\n",
    "**NOTE: In versions of Python below 3.6 tags are not guaranteed to be in order as dict keys have no guaranteed ordering and if you desire your keys to be in order we suggest the user of `OrderedDict`.**"
   ]
  },
  {
   "cell_type": "code",
   "execution_count": 16773755,
   "metadata": {
    "cell_status": "saved-success-first-load"
   },
   "outputs": [
    {
     "data": {
      "text/plain": [
       "1"
      ]
     },
     "execution_count": 16773755,
     "metadata": {
      "output_tag": "j"
     },
     "output_type": "execute_result"
    },
    {
     "data": {
      "text/plain": [
       "1"
      ]
     },
     "execution_count": 16773755,
     "metadata": {
      "output_tag": "k"
     },
     "output_type": "execute_result"
    }
   ],
   "source": [
    "%split_out {'j':1,'k':1}"
   ]
  },
  {
   "cell_type": "markdown",
   "metadata": {
    "cell_status": "new"
   },
   "source": [
    "## Accessing Outputs\n",
    "The Dataflow kernel allows for several different methods of accessing exported variables in the notebook. Completion is enabled for only the last cell in the most current revision, despite this cells and tags that have been exported can all be autocompleted by using the completer."
   ]
  },
  {
   "cell_type": "code",
   "execution_count": 12842872,
   "metadata": {
    "cell_status": "saved-success-first-load"
   },
   "outputs": [
    {
     "data": {
      "text/plain": [
       "4"
      ]
     },
     "execution_count": 12842872,
     "metadata": {
      "output_tag": "m"
     },
     "output_type": "execute_result"
    }
   ],
   "source": [
    "m = 4"
   ]
  },
  {
   "cell_type": "markdown",
   "metadata": {
    "cell_status": "new"
   },
   "source": [
    "_ + `<tab>` produces"
   ]
  },
  {
   "cell_type": "code",
   "execution_count": 13651322,
   "metadata": {
    "cell_status": "saved-success-first-load"
   },
   "outputs": [
    {
     "data": {
      "text/plain": [
       "4"
      ]
     },
     "execution_count": 13651322,
     "metadata": {},
     "output_type": "execute_result"
    }
   ],
   "source": [
    "m"
   ]
  },
  {
   "cell_type": "code",
   "execution_count": 15912071,
   "metadata": {
    "cell_status": "saved-success-first-load"
   },
   "outputs": [
    {
     "data": {
      "text/plain": [
       "1"
      ]
     },
     "execution_count": 15912071,
     "metadata": {
      "output_tag": "n"
     },
     "output_type": "execute_result"
    },
    {
     "data": {
      "text/plain": [
       "2"
      ]
     },
     "execution_count": 15912071,
     "metadata": {
      "output_tag": "o"
     },
     "output_type": "execute_result"
    }
   ],
   "source": [
    "n,o = 1,2"
   ]
  },
  {
   "cell_type": "markdown",
   "metadata": {
    "cell_status": "edited-new"
   },
   "source": [
    "When a cell has multiple tags the completer will produce a tuple of the outputs"
   ]
  },
  {
   "cell_type": "code",
   "execution_count": 15867314,
   "metadata": {
    "cell_status": "saved-success-first-load"
   },
   "outputs": [
    {
     "data": {
      "text/plain": [
       "(1, 2)"
      ]
     },
     "execution_count": 15867314,
     "metadata": {},
     "output_type": "execute_result"
    }
   ],
   "source": [
    "(n,o)"
   ]
  },
  {
   "cell_type": "markdown",
   "metadata": {
    "cell_status": "new"
   },
   "source": [
    "A cell can also still be addressed as it's original output tag if desired but this behavior is discouraged unless the user needs to reference outputs this way.\n",
    "\n",
    "In the example below typing `f2c` and hitting `<tab>` will result in the following"
   ]
  },
  {
   "cell_type": "code",
   "execution_count": 14612062,
   "metadata": {
    "cell_status": "saved-success-first-load"
   },
   "outputs": [
    {
     "data": {
      "text/plain": [
       "(1, 2)"
      ]
     },
     "execution_count": 14612062,
     "metadata": {},
     "output_type": "execute_result"
    }
   ],
   "source": [
    "Out[f2cc87]"
   ]
  },
  {
   "cell_type": "markdown",
   "metadata": {
    "cell_status": "new"
   },
   "source": [
    "## Auto-Parse Library functionality\n",
    "To make life easier on users we came to the conclusion that libraries should be parsed out at a local level because writing extra code to specifically export libraries slows users down.\n",
    "\n",
    "So even when you write only assignments the library will be parsed out and become attached to that cell."
   ]
  },
  {
   "cell_type": "code",
   "execution_count": 15917480,
   "metadata": {
    "cell_status": "saved-success-first-load"
   },
   "outputs": [
    {
     "data": {
      "text/plain": [
       "<module 'sys' (built-in)>"
      ]
     },
     "execution_count": 15917480,
     "metadata": {
      "output_tag": "sys"
     },
     "output_type": "execute_result"
    },
    {
     "data": {
      "text/plain": [
       "3"
      ]
     },
     "execution_count": 15917480,
     "metadata": {
      "output_tag": "p"
     },
     "output_type": "execute_result"
    }
   ],
   "source": [
    "import sys\n",
    "p = 3"
   ]
  },
  {
   "cell_type": "markdown",
   "metadata": {
    "cell_status": "new"
   },
   "source": [
    "However, when you access the cell or try to reference it, it will perform in the same way you expected before so it doesn't become a problem when referencing objects."
   ]
  },
  {
   "cell_type": "code",
   "execution_count": 15718887,
   "metadata": {
    "cell_status": "saved-success-first-load"
   },
   "outputs": [
    {
     "data": {
      "text/plain": [
       "3"
      ]
     },
     "execution_count": 15718887,
     "metadata": {},
     "output_type": "execute_result"
    }
   ],
   "source": [
    "Out[f2e1a8]"
   ]
  },
  {
   "cell_type": "markdown",
   "metadata": {
    "cell_status": "new"
   },
   "source": [
    "It also performs the same way when you have multiple tags but is instead referenced as a tuple."
   ]
  },
  {
   "cell_type": "code",
   "execution_count": 12365696,
   "metadata": {
    "cell_status": "saved-success-first-load"
   },
   "outputs": [
    {
     "data": {
      "text/plain": [
       "<module 'os' from '/home/colin/anaconda3/envs/noglobals/lib/python3.6/os.py'>"
      ]
     },
     "execution_count": 12365696,
     "metadata": {
      "output_tag": "os"
     },
     "output_type": "execute_result"
    },
    {
     "data": {
      "text/plain": [
       "1"
      ]
     },
     "execution_count": 12365696,
     "metadata": {
      "output_tag": "q"
     },
     "output_type": "execute_result"
    },
    {
     "data": {
      "text/plain": [
       "2"
      ]
     },
     "execution_count": 12365696,
     "metadata": {
      "output_tag": "r"
     },
     "output_type": "execute_result"
    }
   ],
   "source": [
    "import os\n",
    "q,r = 1,2"
   ]
  },
  {
   "cell_type": "code",
   "execution_count": 15771266,
   "metadata": {
    "cell_status": "saved-success-first-load"
   },
   "outputs": [
    {
     "data": {
      "text/plain": [
       "(1, 2)"
      ]
     },
     "execution_count": 15771266,
     "metadata": {},
     "output_type": "execute_result"
    }
   ],
   "source": [
    "Out[bcaf80]"
   ]
  }
 ],
 "metadata": {
  "cell_status": "new",
  "hl_list": [],
  "kernelspec": {
   "display_name": "DFPython 3",
   "language": "python",
   "name": "dfpython3"
  },
  "language_info": {
   "codemirror_mode": {
    "name": "ipython",
    "version": 3
   },
   "file_extension": ".py",
   "mimetype": "text/x-python",
   "name": "python",
   "nbconvert_exporter": "python",
   "pygments_lexer": "ipython3",
   "version": "3.6.5"
  }
 },
 "nbformat": 4,
 "nbformat_minor": 2
}
