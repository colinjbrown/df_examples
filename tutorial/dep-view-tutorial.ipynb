{
 "cells": [
  {
   "cell_type": "markdown",
   "metadata": {
    "cell_status": "new"
   },
   "source": [
    "# Dependency Viewer Actions and Interactions"
   ]
  },
  {
   "cell_type": "code",
   "execution_count": 13262206,
   "metadata": {
    "cell_status": "saved-success-first-load"
   },
   "outputs": [
    {
     "data": {
      "text/plain": [
       "IPython.core.display.Image"
      ]
     },
     "execution_count": 13262206,
     "metadata": {
      "output_tag": "Image"
     },
     "output_type": "execute_result"
    }
   ],
   "source": [
    "from IPython.display import Image"
   ]
  },
  {
   "cell_type": "markdown",
   "metadata": {
    "cell_status": "new"
   },
   "source": [
    "## Graph Updates\n",
    "To best describe what happens when a graph updates we must first open the dependency viewer."
   ]
  },
  {
   "cell_type": "code",
   "execution_count": 15340645,
   "metadata": {
    "cell_status": "saved-success"
   },
   "outputs": [
    {
     "data": {
      "text/html": [
       "<img src=\"https://rawgit.com/colinjbrown/dfkernel/documentation-update/docs/tutorial/img/cell_toolbar.png\"/>"
      ],
      "text/plain": [
       "<IPython.core.display.Image object>"
      ]
     },
     "execution_count": 15340645,
     "metadata": {
      "output_tag": "DepViewerOpen"
     },
     "output_type": "execute_result"
    }
   ],
   "source": [
    "DepViewerOpen = Image(url='https://rawgit.com/colinjbrown/dfkernel/documentation-update/docs/tutorial/img/cell_toolbar.png')"
   ]
  },
  {
   "cell_type": "markdown",
   "metadata": {
    "cell_status": "new"
   },
   "source": [
    "Once our viewer is open we can execute code to create some nodes.\n",
    "#### Note: The viewer does not have to be open, changes that happen while the viewer is not open will be rendered upon opening of the viewer."
   ]
  },
  {
   "cell_type": "code",
   "execution_count": 12099473,
   "metadata": {
    "cell_status": "saved-success"
   },
   "outputs": [
    {
     "data": {
      "text/plain": [
       "3"
      ]
     },
     "execution_count": 12099473,
     "metadata": {
      "output_tag": "a"
     },
     "output_type": "execute_result"
    }
   ],
   "source": [
    "a = 3"
   ]
  },
  {
   "cell_type": "markdown",
   "metadata": {
    "cell_status": "new"
   },
   "source": [
    "After our cell finishes executing the viewer will now update the graph."
   ]
  },
  {
   "cell_type": "code",
   "execution_count": 15169003,
   "metadata": {
    "cell_status": "saved-success-first-load"
   },
   "outputs": [
    {
     "data": {
      "text/html": [
       "<img src=\"https://rawgit.com/colinjbrown/dfkernel/documentation-update/docs/tutorial/img/stage1.svg\" width=\"300\"/>"
      ],
      "text/plain": [
       "<IPython.core.display.Image object>"
      ]
     },
     "execution_count": 15169003,
     "metadata": {
      "output_tag": "Executeb89f91"
     },
     "output_type": "execute_result"
    }
   ],
   "source": [
    "Executeb89f91 = Image(url='https://rawgit.com/colinjbrown/dfkernel/documentation-update/docs/tutorial/img/stage1.svg',width=300)"
   ]
  },
  {
   "cell_type": "code",
   "execution_count": 14228960,
   "metadata": {
    "cell_status": "saved-success"
   },
   "outputs": [
    {
     "data": {
      "text/plain": [
       "6"
      ]
     },
     "execution_count": 14228960,
     "metadata": {
      "output_tag": "b"
     },
     "output_type": "execute_result"
    }
   ],
   "source": [
    "b = a+3"
   ]
  },
  {
   "cell_type": "markdown",
   "metadata": {
    "cell_status": "new"
   },
   "source": [
    "When we execute a second cell the viewer will move out and the edge between `a` and `Cell[d91de0]` will be shown."
   ]
  },
  {
   "cell_type": "code",
   "execution_count": 11119936,
   "metadata": {
    "cell_status": "saved-success-first-load"
   },
   "outputs": [
    {
     "data": {
      "text/html": [
       "<img src=\"https://rawgit.com/colinjbrown/dfkernel/documentation-update/docs/tutorial/img/stage2.svg\" width=\"500\"/>"
      ],
      "text/plain": [
       "<IPython.core.display.Image object>"
      ]
     },
     "execution_count": 11119936,
     "metadata": {
      "output_tag": "Executed91de0"
     },
     "output_type": "execute_result"
    }
   ],
   "source": [
    "Executed91de0 = Image(url='https://rawgit.com/colinjbrown/dfkernel/documentation-update/docs/tutorial/img/stage2.svg',width=500)"
   ]
  },
  {
   "cell_type": "code",
   "execution_count": 14765334,
   "metadata": {
    "cell_status": "saved-success"
   },
   "outputs": [
    {
     "data": {
      "text/plain": [
       "11"
      ]
     },
     "execution_count": 14765334,
     "metadata": {
      "output_tag": "c"
     },
     "output_type": "execute_result"
    }
   ],
   "source": [
    "c = b+5"
   ]
  },
  {
   "cell_type": "markdown",
   "metadata": {
    "cell_status": "new"
   },
   "source": [
    "This process then can again be repeated for another cell."
   ]
  },
  {
   "cell_type": "code",
   "execution_count": 14011924,
   "metadata": {
    "cell_status": "saved-success-first-load"
   },
   "outputs": [
    {
     "data": {
      "text/html": [
       "<img src=\"https://rawgit.com/colinjbrown/dfkernel/documentation-update/docs/tutorial/img/stage3.svg\" width=\"800\"/>"
      ],
      "text/plain": [
       "<IPython.core.display.Image object>"
      ]
     },
     "execution_count": 14011924,
     "metadata": {
      "output_tag": "Executee14d16"
     },
     "output_type": "execute_result"
    }
   ],
   "source": [
    "Executee14d16 = Image(url='https://rawgit.com/colinjbrown/dfkernel/documentation-update/docs/tutorial/img/stage3.svg',width=800)"
   ]
  },
  {
   "cell_type": "markdown",
   "metadata": {
    "cell_status": "edited-new"
   },
   "source": [
    "When we decide to delete `Cell[b92938]` the changes are not rendered immediatly because the kernel does not know about these changes, instead we opt to provide a red horizontal cell that acts as a place holder until that cell is actually removed. Thus inside of the viewer the cell is also rendered in red."
   ]
  },
  {
   "cell_type": "code",
   "execution_count": 14154402,
   "metadata": {
    "cell_status": "saved-success-first-load"
   },
   "outputs": [
    {
     "data": {
      "text/html": [
       "<img src=\"https://rawgit.com/colinjbrown/dfkernel/documentation-update/docs/tutorial/img/delete_cell.png\" width=\"800\"/>"
      ],
      "text/plain": [
       "<IPython.core.display.Image object>"
      ]
     },
     "execution_count": 14154402,
     "metadata": {
      "output_tag": "Deletee14d16"
     },
     "output_type": "execute_result"
    },
    {
     "data": {
      "text/html": [
       "<img src=\"https://rawgit.com/colinjbrown/dfkernel/documentation-update/docs/tutorial/img/stage4.svg\" width=\"800\"/>"
      ],
      "text/plain": [
       "<IPython.core.display.Image object>"
      ]
     },
     "execution_count": 14154402,
     "metadata": {
      "output_tag": "GraphUpdate"
     },
     "output_type": "execute_result"
    }
   ],
   "source": [
    "Deletee14d16 = Image(url='https://rawgit.com/colinjbrown/dfkernel/documentation-update/docs/tutorial/img/delete_cell.png',width=800)\n",
    "GraphUpdate = Image(url='https://rawgit.com/colinjbrown/dfkernel/documentation-update/docs/tutorial/img/stage4.svg',width=800)\n",
    "Deletee14d16,GraphUpdate"
   ]
  },
  {
   "cell_type": "markdown",
   "metadata": {
    "cell_status": "new"
   },
   "source": [
    "When we decide to click on the red bar to undelete the cell the viewer restores the color of that cell to green as if nothing had happened to that cell at all."
   ]
  },
  {
   "cell_type": "code",
   "execution_count": 12026611,
   "metadata": {
    "cell_status": "saved-success-first-load"
   },
   "outputs": [
    {
     "data": {
      "text/html": [
       "<img src=\"https://rawgit.com/colinjbrown/dfkernel/documentation-update/docs/tutorial/img/stage3.svg\" width=\"800\"/>"
      ],
      "text/plain": [
       "<IPython.core.display.Image object>"
      ]
     },
     "execution_count": 12026611,
     "metadata": {
      "output_tag": "Restoree14d16"
     },
     "output_type": "execute_result"
    }
   ],
   "source": [
    "Restoree14d16 = Image(url='https://rawgit.com/colinjbrown/dfkernel/documentation-update/docs/tutorial/img/stage3.svg',width=800)"
   ]
  },
  {
   "cell_type": "markdown",
   "metadata": {
    "cell_status": "new"
   },
   "source": [
    "Now we edit `In[b89f91]` so that instead of `a=3` we set `a=2`, this results in the graph being updated again."
   ]
  },
  {
   "cell_type": "code",
   "execution_count": 12765768,
   "metadata": {
    "cell_status": "saved-success-first-load"
   },
   "outputs": [
    {
     "data": {
      "text/html": [
       "<img src=\"https://rawgit.com/colinjbrown/dfkernel/documentation-update/docs/tutorial/img/stage5.svg\" width=\"800\"/>"
      ],
      "text/plain": [
       "<IPython.core.display.Image object>"
      ]
     },
     "execution_count": 12765768,
     "metadata": {
      "output_tag": "Editb89f91"
     },
     "output_type": "execute_result"
    }
   ],
   "source": [
    "Editb89f91 = Image(url='https://rawgit.com/colinjbrown/dfkernel/documentation-update/docs/tutorial/img/stage5.svg',width=800)"
   ]
  },
  {
   "cell_type": "markdown",
   "metadata": {
    "cell_status": "new"
   },
   "source": [
    "## Toggle Cell Sinks\n",
    "To be able to demonstrate exactly what this does a more complicated graph needs to be shown, so we will use the graph from a fully executed example of ours that can be found [here](https://github.com/colinjbrown/dfkernel/blob/master/examples/digits-classification-df.ipynb)."
   ]
  },
  {
   "cell_type": "code",
   "execution_count": 11013709,
   "metadata": {
    "cell_status": "saved-success"
   },
   "outputs": [
    {
     "data": {
      "text/html": [
       "<img src=\"https://cdn.rawgit.com/colinjbrown/dfkernel/documentation-update/docs/tutorial/img/digits-classification-df.svg\"/>"
      ],
      "text/plain": [
       "<IPython.core.display.Image object>"
      ]
     },
     "execution_count": 11013709,
     "metadata": {
      "output_tag": "CellSinksVisible"
     },
     "output_type": "execute_result"
    }
   ],
   "source": [
    "CellSinksVisible = Image(url='https://cdn.rawgit.com/colinjbrown/dfkernel/documentation-update/docs/tutorial/img/digits-classification-df.svg')"
   ]
  },
  {
   "cell_type": "markdown",
   "metadata": {
    "cell_status": "new"
   },
   "source": [
    "Upon hitting the toggle to remove cell sinks, we can see that any sink nodes in our graph are now removed and our graph is significantly more compact."
   ]
  },
  {
   "cell_type": "code",
   "execution_count": 15240116,
   "metadata": {
    "cell_status": "saved-success"
   },
   "outputs": [
    {
     "data": {
      "text/html": [
       "<img src=\"https://cdn.rawgit.com/colinjbrown/dfkernel/documentation-update/docs/tutorial/img/digits-classification-df-no-sink.svg\"/>"
      ],
      "text/plain": [
       "<IPython.core.display.Image object>"
      ]
     },
     "execution_count": 15240116,
     "metadata": {
      "output_tag": "NoCellSinks"
     },
     "output_type": "execute_result"
    }
   ],
   "source": [
    "NoCellSinks = Image(url='https://cdn.rawgit.com/colinjbrown/dfkernel/documentation-update/docs/tutorial/img/digits-classification-df-no-sink.svg')"
   ]
  }
 ],
 "metadata": {
  "cell_status": "new",
  "hl_list": [],
  "kernelspec": {
   "display_name": "DFPython 3",
   "language": "python",
   "name": "dfpython3"
  },
  "language_info": {
   "codemirror_mode": {
    "name": "ipython",
    "version": 3
   },
   "file_extension": ".py",
   "mimetype": "text/x-python",
   "name": "python",
   "nbconvert_exporter": "python",
   "pygments_lexer": "ipython3",
   "version": "3.6.5"
  }
 },
 "nbformat": 4,
 "nbformat_minor": 2
}
