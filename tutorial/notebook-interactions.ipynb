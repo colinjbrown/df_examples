{
 "cells": [
  {
   "cell_type": "markdown",
   "metadata": {
    "cell_status": "new"
   },
   "source": [
    "# Jupyter Notebook Interactions\n",
    "To be able to properly accomodate both UUIDs and our namespace into the notebook we've had to make some changes to the way normal notebooks work.\n",
    "\n",
    "In the vanilla notebook an action like copying a cell and pasting it twice has no reprecussions, for us however these interactions had to be changed to incorporate things like ensuring that no Cell IDs is the same.\n",
    "\n",
    "Let's step through some of these interactions.\n",
    "\n",
    "## Delete Cell\n",
    "A cell that has never been executed is the same interaction you'd see in a normal notebook, it removes the cell and you never have to deal with that cell ever again.\n",
    "\n",
    "However, with `CodeCells` that have already been executed that is not the case, a horizontal red bar will show up where that cell was."
   ]
  },
  {
   "cell_type": "code",
   "execution_count": 14133192,
   "metadata": {
    "cell_status": "saved-success-first-load"
   },
   "outputs": [
    {
     "data": {
      "text/plain": [
       "IPython.core.display.Image"
      ]
     },
     "execution_count": 14133192,
     "metadata": {
      "output_tag": "Image"
     },
     "output_type": "execute_result"
    }
   ],
   "source": [
    "from IPython.display import Image"
   ]
  },
  {
   "cell_type": "code",
   "execution_count": 11458905,
   "metadata": {
    "cell_status": "saved-success-first-load"
   },
   "outputs": [
    {
     "data": {
      "text/html": [
       "<img src=\"https://rawgit.com/colinjbrown/dfkernel/documentation-update/docs/tutorial/img/delete_cell.png\" width=\"800\"/>"
      ],
      "text/plain": [
       "<IPython.core.display.Image object>"
      ]
     },
     "execution_count": 11458905,
     "metadata": {
      "output_tag": "Deletee14d16"
     },
     "output_type": "execute_result"
    }
   ],
   "source": [
    "Deletee14d16 = Image(url='https://rawgit.com/colinjbrown/dfkernel/documentation-update/docs/tutorial/img/delete_cell.png',width=800)"
   ]
  },
  {
   "cell_type": "markdown",
   "metadata": {
    "cell_status": "new"
   },
   "source": [
    "It's best to think of this cell as a \"Soft Delete\", it's completely reversible without any consequences. The reason why this is the case is because until a new cell is executed the Python kernel doesn't even know you've deleted a cell. Upon executing another cell though this bar will be completely removed and will be considered \"hard deleted\".\n",
    "\n",
    "**Note: We think this is the best way to handle these deletions because when you delete any cell in the Notebook you might not be aware of the cells that are impacted by it.**"
   ]
  },
  {
   "cell_type": "markdown",
   "metadata": {
    "cell_status": "new"
   },
   "source": [
    "## Copy, Cut and Paste Cell\n",
    "\n",
    "**Copy**\n",
    "\n",
    "Copy behaves just as you imagine it would so there are no special interactions that happen here.\n",
    "\n",
    "**Cut**\n",
    "\n",
    "On cutting a cell, much like when we delete a cell performing a soft delete. However there are now two copies of the cell that exist, one exists in the undelete stack and one exists on the clipboard. Both of these are considered equally valid references so until one of two events happens they are all valid.\n",
    "\n",
    "- Paste Event: \n",
    "Pasted Cell is now considered the authentic reference to that cell and the deleted cell maintains a different Cell ID and has output wiped if it is undeleted.\n",
    "- Undelete Event:\n",
    "Undeleted Cell is now considered the authentic reference to that cell and the cell on clipboard maintains a different Cell ID and has output wiped if it is pasted.\n",
    "\n",
    "**Paste**\n",
    "\n",
    "This behaves relatively the same other than two references to the same cell cannot exist, so if you try and for example paste twice they will have two different Cell IDs and the second one will not have any output attached to it.\n",
    "\n",
    "## Split and Merge\n",
    "\n",
    "**Split**\n",
    "\n",
    "This is the same as a typical split, one side gets the output tags and the other does not, determining the proper way to split requires code introspection so the onus falls on the user to not make poor choices.\n",
    "\n",
    "**Merge**\n",
    "As text is collapsed together so is the output, we only retain the outputs from the bottom cell."
   ]
  }
 ],
 "metadata": {
  "cell_status": "new",
  "hl_list": [],
  "kernelspec": {
   "display_name": "DFPython 3",
   "language": "python",
   "name": "dfpython3"
  },
  "language_info": {
   "codemirror_mode": {
    "name": "ipython",
    "version": 3
   },
   "file_extension": ".py",
   "mimetype": "text/x-python",
   "name": "python",
   "nbconvert_exporter": "python",
   "pygments_lexer": "ipython3",
   "version": "3.6.5"
  }
 },
 "nbformat": 4,
 "nbformat_minor": 2
}
