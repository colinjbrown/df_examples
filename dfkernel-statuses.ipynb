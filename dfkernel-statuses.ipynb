{
 "cells": [
  {
   "cell_type": "markdown",
   "metadata": {
    "cell_status": "new"
   },
   "source": [
    "# Cell Statuses"
   ]
  },
  {
   "cell_type": "code",
   "execution_count": 15223871,
   "metadata": {
    "cell_status": "saved-success-first-load"
   },
   "outputs": [
    {
     "data": {
      "text/plain": [
       "IPython.core.display.Image"
      ]
     },
     "execution_count": 15223871,
     "metadata": {
      "output_tag": "Image"
     },
     "output_type": "execute_result"
    }
   ],
   "source": [
    "from IPython.display import Image"
   ]
  },
  {
   "cell_type": "code",
   "execution_count": 12091047,
   "metadata": {
    "cell_status": "saved-success-first-load"
   },
   "outputs": [
    {
     "data": {
      "text/html": [
       "<img src=\"https://cdn.rawgit.com/colinjbrown/dfkernel/29b7b020/dfkernel/resources/df-notebook/img/fa/check-circle.svg\"/>"
      ],
      "text/plain": [
       "<IPython.core.display.Image object>"
      ]
     },
     "execution_count": 12091047,
     "metadata": {
      "output_tag": "Success"
     },
     "output_type": "execute_result"
    },
    {
     "data": {
      "text/html": [
       "<img src=\"https://cdn.rawgit.com/colinjbrown/dfkernel/29b7b020/dfkernel/resources/df-notebook/img/fa/check-circle-yellow.svg\"/>"
      ],
      "text/plain": [
       "<IPython.core.display.Image object>"
      ]
     },
     "execution_count": 12091047,
     "metadata": {
      "output_tag": "SavedSuccess"
     },
     "output_type": "execute_result"
    },
    {
     "data": {
      "text/html": [
       "<img src=\"https://cdn.rawgit.com/colinjbrown/dfkernel/29b7b020/dfkernel/resources/df-notebook/img/fa/clock.svg\"/>"
      ],
      "text/plain": [
       "<IPython.core.display.Image object>"
      ]
     },
     "execution_count": 12091047,
     "metadata": {
      "output_tag": "Running"
     },
     "output_type": "execute_result"
    },
    {
     "data": {
      "text/html": [
       "<img src=\"https://cdn.rawgit.com/colinjbrown/dfkernel/29b7b020/dfkernel/resources/df-notebook/img/fa/exclamation-circle.svg\"/>"
      ],
      "text/plain": [
       "<IPython.core.display.Image object>"
      ]
     },
     "execution_count": 12091047,
     "metadata": {
      "output_tag": "Unverified"
     },
     "output_type": "execute_result"
    },
    {
     "data": {
      "text/html": [
       "<img src=\"https://cdn.rawgit.com/colinjbrown/dfkernel/29b7b020/dfkernel/resources/df-notebook/img/fa/plus-circle.svg\"/>"
      ],
      "text/plain": [
       "<IPython.core.display.Image object>"
      ]
     },
     "execution_count": 12091047,
     "metadata": {
      "output_tag": "NewCell"
     },
     "output_type": "execute_result"
    },
    {
     "data": {
      "text/html": [
       "<img src=\"https://cdn.rawgit.com/colinjbrown/dfkernel/29b7b020/dfkernel/resources/df-notebook/img/fa/plus-circle-yellow.svg\"/>"
      ],
      "text/plain": [
       "<IPython.core.display.Image object>"
      ]
     },
     "execution_count": 12091047,
     "metadata": {
      "output_tag": "EditedNewCell"
     },
     "output_type": "execute_result"
    },
    {
     "data": {
      "text/html": [
       "<img src=\"https://cdn.rawgit.com/colinjbrown/dfkernel/29b7b020/dfkernel/resources/df-notebook/img/fa/times-circle.svg\"/>"
      ],
      "text/plain": [
       "<IPython.core.display.Image object>"
      ]
     },
     "execution_count": 12091047,
     "metadata": {
      "output_tag": "Error"
     },
     "output_type": "execute_result"
    },
    {
     "data": {
      "text/html": [
       "<img src=\"https://cdn.rawgit.com/colinjbrown/dfkernel/29b7b020/dfkernel/resources/df-notebook/img/fa/times-circle-yellow.svg\"/>"
      ],
      "text/plain": [
       "<IPython.core.display.Image object>"
      ]
     },
     "execution_count": 12091047,
     "metadata": {
      "output_tag": "UnverifiedError"
     },
     "output_type": "execute_result"
    }
   ],
   "source": [
    "Success =         Image(url='https://cdn.rawgit.com/colinjbrown/dfkernel/29b7b020/dfkernel/resources/df-notebook/img/fa/check-circle.svg')\n",
    "SavedSuccess =    Image(url='https://cdn.rawgit.com/colinjbrown/dfkernel/29b7b020/dfkernel/resources/df-notebook/img/fa/check-circle-yellow.svg')\n",
    "Running =         Image(url='https://cdn.rawgit.com/colinjbrown/dfkernel/29b7b020/dfkernel/resources/df-notebook/img/fa/clock.svg')\n",
    "Unverified =      Image(url='https://cdn.rawgit.com/colinjbrown/dfkernel/29b7b020/dfkernel/resources/df-notebook/img/fa/exclamation-circle.svg')\n",
    "NewCell =         Image(url='https://cdn.rawgit.com/colinjbrown/dfkernel/29b7b020/dfkernel/resources/df-notebook/img/fa/plus-circle.svg')\n",
    "EditedNewCell =   Image(url='https://cdn.rawgit.com/colinjbrown/dfkernel/29b7b020/dfkernel/resources/df-notebook/img/fa/plus-circle-yellow.svg')\n",
    "Error =           Image(url='https://cdn.rawgit.com/colinjbrown/dfkernel/29b7b020/dfkernel/resources/df-notebook/img/fa/times-circle.svg')\n",
    "UnverifiedError = Image(url='https://cdn.rawgit.com/colinjbrown/dfkernel/29b7b020/dfkernel/resources/df-notebook/img/fa/times-circle-yellow.svg')\n",
    "Success,SavedSuccess,Running,Unverified,NewCell,EditedNewCell,Error,UnverifiedError"
   ]
  },
  {
   "cell_type": "markdown",
   "metadata": {
    "cell_status": "new"
   },
   "source": [
    "**Success:**\n",
    "\n",
    "This represents the best case for a cell, this represents a cell that has had no change to it's text and everything upstream of it is also in this state.\n",
    "\n",
    "**SavedSuccess:**\n",
    "\n",
    "The last run of this cell was successful, there's a good chance that this will succeed too, but if however you were missing a file that the original author had the cell would fail. \n",
    "\n",
    "**Running:**\n",
    "\n",
    "This state is only reached when a cell continues to run, as our UUIDs are persistent we've gotten rid of the typical `[*]` state one would see in a vanilla notebook and replaced it with this icon as a feedback mechanism for users.\n",
    "\n",
    "**Unverified:**\n",
    "\n",
    "This represents a stale state, this state can be reached by a number of ways. If a user were to edit an upstream cell not only would we mark that cell as stale because that cell has not yet been executed, but everything that is downstream from that cell has reached a stale state as they depend on that cell.\n",
    "\n",
    "**NewCell:**\n",
    "\n",
    "A new empty cell.\n",
    "\n",
    "**EditedNewCell:**\n",
    "\n",
    "A new cell that has had it's contents modified.\n",
    "\n",
    "**Error:**\n",
    "\n",
    "The opposite of a Success, this is a verified error state where the error has happened locally.\n",
    "\n",
    "**UnverifiedError:**\n",
    "\n",
    "Most of the time an error is an error, however that is not always the case if whoever saved the file was missing a library and you have it. Without knowing the cause of an error we must mark it as unverified when the Notebook is saved out."
   ]
  }
 ],
 "metadata": {
  "hl_list": [],
  "kernelspec": {
   "display_name": "DFPython 3",
   "language": "python",
   "name": "dfpython3"
  },
  "language_info": {
   "codemirror_mode": {
    "name": "ipython",
    "version": 3
   },
   "file_extension": ".py",
   "mimetype": "text/x-python",
   "name": "python",
   "nbconvert_exporter": "python",
   "pygments_lexer": "ipython3",
   "version": "3.6.5"
  }
 },
 "nbformat": 4,
 "nbformat_minor": 2
}
